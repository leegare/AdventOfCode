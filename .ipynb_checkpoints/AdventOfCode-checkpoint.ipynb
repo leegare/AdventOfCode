{
 "cells": [
  {
   "cell_type": "markdown",
   "metadata": {},
   "source": [
    "# Day 1 Inverse Captcha"
   ]
  },
  {
   "cell_type": "code",
   "execution_count": 33,
   "metadata": {},
   "outputs": [],
   "source": [
    "f=open(\"day1Input.txt\", \"r\")\n",
    "myStr =f.read()\n",
    "myStr = str(myStr)\n",
    "total = 0"
   ]
  },
  {
   "cell_type": "markdown",
   "metadata": {},
   "source": [
    "The captcha requires you to review a sequence of digits (your puzzle input) and find the sum of all digits that match the next digit in the list. The list is circular, so the digit after the last digit is the first digit in the list.\n",
    "\n",
    "For example:\n",
    "\n",
    "1122 produces a sum of 3 (1 + 2) because the first digit (1) matches the second digit and the third digit (2) matches the fourth digit.\n",
    "1111 produces 4 because each digit (all 1) matches the next.\n",
    "1234 produces 0 because no digit matches the next.\n",
    "91212129 produces 9 because the only digit that matches the next one is the last digit, 9."
   ]
  },
  {
   "cell_type": "code",
   "execution_count": 43,
   "metadata": {},
   "outputs": [
    {
     "name": "stdout",
     "output_type": "stream",
     "text": [
      "\n",
      "Total:  1203\n"
     ]
    }
   ],
   "source": [
    "for x1 in range(0, len(myStr)-1):\n",
    "    #print(myStr[x1], myStr[x1+1], myStr[x1]==myStr[x1+1])\n",
    "    if myStr[x1]==myStr[x1+1]:\n",
    "        total += int(myStr[x1])\n",
    "    #print('Total: ',total)\n",
    "# Take care of the last and first digits: \n",
    "#print(myStr[-1], myStr[0], myStr[-1]==myStr[0])\n",
    "if myStr[-1]==myStr[0]:\n",
    "    total += int(myStr[-1])\n",
    "print('\\nTotal: ',total)"
   ]
  },
  {
   "cell_type": "markdown",
   "metadata": {},
   "source": [
    "## Part two\n",
    "Now, instead of considering the next digit, it wants you to consider the digit halfway around the circular list. That is, if your list contains 10 items, only include a digit in your sum if the digit 10/2 = 5 steps forward matches it. Fortunately, your list has an even number of elements.\n",
    "\n",
    "For example:\n",
    "\n",
    "1212 produces 6: the list contains 4 items, and all four digits match the digit 2 items ahead.\n",
    "1221 produces 0, because every comparison is between a 1 and a 2.\n",
    "123425 produces 4, because both 2s match each other, but no other digit has a match.\n",
    "123123 produces 12.\n",
    "12131415 produces 4."
   ]
  },
  {
   "cell_type": "code",
   "execution_count": 45,
   "metadata": {},
   "outputs": [
    {
     "data": {
      "text/plain": [
       "2349"
      ]
     },
     "execution_count": 45,
     "metadata": {},
     "output_type": "execute_result"
    }
   ],
   "source": [
    "strLen = len(myStr)\n",
    "newStr = myStr+myStr[0:int(strLen/2)]\n",
    "for x1 in range(0, strLen):\n",
    "    #print(newStr[x1], newStr[int(x1+strLen/2)])\n",
    "    if newStr[x1]==newStr[int(x1+strLen/2)]:\n",
    "       total += int(newStr[x1])\n",
    "total"
   ]
  },
  {
   "cell_type": "markdown",
   "metadata": {},
   "source": [
    "# Day 2 - Corruption Checksum\n",
    "As you walk through the door, a glowing humanoid shape yells in your direction. \"You there! Your state appears to be idle. Come help us repair the corruption in this spreadsheet - if we take another millisecond, we'll have to display an hourglass cursor!\"\n",
    "\n",
    "The spreadsheet consists of rows of apparently-random numbers. To make sure the recovery process is on the right track, they need you to calculate the spreadsheet's checksum. For each row, determine the difference between the largest value and the smallest value; the checksum is the sum of all of these differences.\n",
    "\n",
    "For example, given the following spreadsheet:\n",
    "\n",
    "5 1 9 5\n",
    "7 5 3\n",
    "2 4 6 8\n",
    "The first row's largest and smallest values are 9 and 1, and their difference is 8.\n",
    "The second row's largest and smallest values are 7 and 3, and their difference is 4.\n",
    "The third row's difference is 6.\n",
    "In this example, the spreadsheet's checksum would be 8 + 4 + 6 = 18.\n",
    "\n",
    "What is the checksum for the spreadsheet in your puzzle input?"
   ]
  },
  {
   "cell_type": "code",
   "execution_count": 27,
   "metadata": {},
   "outputs": [],
   "source": [
    "f=open(\"day2Input.txt\", \"r\")\n",
    "corr =f.read()"
   ]
  },
  {
   "cell_type": "code",
   "execution_count": 28,
   "metadata": {
    "collapsed": true
   },
   "outputs": [
    {
     "name": "stdout",
     "output_type": "stream",
     "text": [
      "Result 44670\n"
     ]
    }
   ],
   "source": [
    "current = 0\n",
    "result = 0\n",
    "# Break the string into rows\n",
    "corr3 = corr.split(\"\\n\")\n",
    "# Treat the rows individually\n",
    "for row in corr3:\n",
    "    sample = row.split(\"\\t\")\n",
    "    maximum = int(sample[0])\n",
    "    minimum = int(sample[0])\n",
    "    #print('This is the sample', sample, len(sample), sample[1])\n",
    "# Convert that list of strings into a list of ints\n",
    "    for i in range(1, len(sample)):\n",
    "        current = int(sample[i])\n",
    "        if current > maximum:\n",
    "            maximum = current\n",
    "        if current < minimum:\n",
    "            minimum = current\n",
    "    #print('I:',i,int(sample[i]), 'Max', maximum, 'min',minimum)\n",
    "    result = result + (maximum - minimum)\n",
    "print('Result', result)"
   ]
  },
  {
   "cell_type": "markdown",
   "metadata": {},
   "source": [
    "## Part two\n",
    "It sounds like the goal is to find the only two numbers in each row where one evenly divides the other - that is, where the result of the division operation is a whole number. They would like you to find those numbers on each line, divide them, and add up each line's result.\n",
    "\n",
    "For example, given the following spreadsheet:\n",
    "\n",
    "5 9 2 8\n",
    "9 4 7 3\n",
    "3 8 6 5\n",
    "In the first row, the only two numbers that evenly divide are 8 and 2; the result of this division is 4.\n",
    "In the second row, the two numbers are 9 and 3; the result is 3.\n",
    "In the third row, the result is 2.\n",
    "In this example, the sum of the results would be 4 + 3 + 2 = 9.\n",
    "\n",
    "What is the sum of each row's result in your puzzle input?"
   ]
  },
  {
   "cell_type": "code",
   "execution_count": 32,
   "metadata": {},
   "outputs": [
    {
     "name": "stdout",
     "output_type": "stream",
     "text": [
      "G_RESULT 285.0\n"
     ]
    }
   ],
   "source": [
    "g_result = 0 \n",
    "# Break the string into rows\n",
    "corr3 = corr.split(\"\\n\")\n",
    "# Treat the rows individually\n",
    "for row in corr3:\n",
    "    sample = row.split(\"\\t\")\n",
    "    #print('This is the sample', sample, len(sample), sample[1])\n",
    "# Convert that list of strings into a list of ints\n",
    "    for i in range(0, len(sample)-1):\n",
    "        divisor = int(sample[i])\n",
    "        #print('Divisor',divisor)\n",
    "# Take the divisor and divide it with the rest of the sample. \n",
    "        for d in range(i+1, len(sample)):\n",
    "            dividend = int(sample[d])\n",
    "            #print('Dividend', dividend)\n",
    "            if divisor <= dividend:\n",
    "                result = dividend/divisor\n",
    "            else: \n",
    "                result = divisor/dividend\n",
    "            if result==int(result):\n",
    "                g_result+=result\n",
    "print('G_RESULT',g_result)                "
   ]
  },
  {
   "cell_type": "markdown",
   "metadata": {},
   "source": [
    "# Day 3: Spiral Memory\n"
   ]
  },
  {
   "cell_type": "markdown",
   "metadata": {},
   "source": [
    "While this is very space-efficient (no squares are skipped), requested data must be carried back to square 1 (the location of the only access port for this memory system) by programs that can only move up, down, left, or right. They always take the shortest path: the Manhattan Distance between the location of the data and square 1.\n",
    "\n",
    "For example:\n",
    "\n",
    "Data from square 1 is carried 0 steps, since it's at the access port.\n",
    "Data from square 12 is carried 3 steps, such as: down, left, left.\n",
    "Data from square 23 is carried only 2 steps: up twice.\n",
    "Data from square 1024 must be carried 31 steps.\n",
    "How many steps are required to carry the data from the square identified in your puzzle input all the way to the access port?"
   ]
  },
  {
   "cell_type": "code",
   "execution_count": 302,
   "metadata": {},
   "outputs": [
    {
     "name": "stdout",
     "output_type": "stream",
     "text": [
      "430 steps\n"
     ]
    }
   ],
   "source": [
    "import numpy as np\n",
    "# Build the matrix\n",
    "target = 312051\n",
    "count = 1\n",
    "#print('Target', target)\n",
    "\n",
    "if np.sqrt(target)>int(np.sqrt(target)):\n",
    "    #print(np.sqrt(target),'is greater than',int(np.sqrt(target)))\n",
    "    # Is the number even? \n",
    "    if int(np.sqrt(target)) % 2 == 0:\n",
    "        w, h = int(np.sqrt(target))+1, int(np.sqrt(target))+1;\n",
    "    else: \n",
    "        w, h = int(np.sqrt(target))+2, int(np.sqrt(target))+2;\n",
    "else:\n",
    "    #print(np.sqrt(target),'is less than',int(np.sqrt(target)))\n",
    "    # Is the number even? \n",
    "    if int(np.sqrt(target)) % 2 == 0:\n",
    "        w, h = int(np.sqrt(target))+1, int(np.sqrt(target))+1;\n",
    "    else: \n",
    "        w, h = int(np.sqrt(target)), int(np.sqrt(target));\n",
    "  \n",
    "# Build a 5x5 matrix of 0's\n",
    "memo = [[0 for x in range(w)] for y in range(h)] \n",
    "\n",
    "# Build the digital list of diameters\n",
    "diameter = [x for x in range(1,w+1,2)]\n",
    "\n",
    "# Define the center coordinates\n",
    "x,y = int((w-1)/2), int((w-1)/2);\n",
    "c_x,c_y = x,y\n",
    "directions = [(0, 1), (-1, 0), (0, -1), (1, 0)] # [E, NORTH, W, S]\n",
    "d_idx = 0\n",
    "\n",
    "# Define center with value 1\n",
    "memo[y][x] = count\n",
    "count += 1\n",
    "\n",
    "# Start loop\n",
    "for radius in range (1, len(diameter)):\n",
    "    # Move east -- First move\n",
    "    dy,dx = directions[d_idx]\n",
    "    y, x = dy+y, dx+x\n",
    "    memo[y][x] = count\n",
    "    count += 1\n",
    "    # Move North -- diameter[radius-1] times\n",
    "    for n in range(0,diameter[radius-1]):\n",
    "        d_idx = 1\n",
    "        dy,dx = directions[d_idx]\n",
    "        y, x = dy+y, dx+x\n",
    "        memo[y][x] = count\n",
    "        count += 1\n",
    "    # Move West diameter[radius]-1 times\n",
    "    for w in range(0,diameter[radius]-1):\n",
    "        d_idx = 2\n",
    "        dy,dx = directions[d_idx]\n",
    "        y, x = dy+y, dx+x\n",
    "        memo[y][x] = count\n",
    "        count += 1\n",
    "    # Move South diameter[radius]-1 times\n",
    "    for s in range(0,diameter[radius]-1):\n",
    "        d_idx = 3\n",
    "        dy,dx = directions[d_idx]\n",
    "        y, x = dy+y, dx+x\n",
    "        memo[y][x] = count\n",
    "        count += 1\n",
    "    # Move East diameter[radius]-1 times\n",
    "    for e in range(0,diameter[radius]-1):\n",
    "        d_idx = 0\n",
    "        dy,dx = directions[d_idx]\n",
    "        y, x = dy+y, dx+x\n",
    "        memo[y][x] = count\n",
    "        count += 1\n",
    "        \n",
    "# Get the targets coordinates. \n",
    "for row in range(0,len(memo)):\n",
    "    #print(memo[row], target in memo[row])\n",
    "    if target in memo[row]:\n",
    "        t_y = row\n",
    "        t_x = memo[row].index(target)\n",
    "        \n",
    "# Compute the Manhattan Distance \n",
    "print(np.abs(c_x-t_x)+np.abs(t_y-c_y), 'steps')"
   ]
  },
  {
   "cell_type": "markdown",
   "metadata": {},
   "source": [
    "## Part two\n",
    "As a stress test on the system, the programs here clear the grid and then store the value 1 in square 1. Then, in the same allocation order as shown above, they store the sum of the values in all adjacent squares, including diagonals.\n",
    "\n",
    "So, the first few squares' values are chosen as follows:\n",
    "\n",
    "Square 1 starts with the value 1.\n",
    "Square 2 has only one adjacent filled square (with value 1), so it also stores 1.\n",
    "Square 3 has both of the above squares as neighbors and stores the sum of their values, 2.\n",
    "Square 4 has all three of the aforementioned squares as neighbors and stores the sum of their values, 4.\n",
    "Square 5 only has the first and fourth squares as neighbors, so it gets the value 5.\n",
    "Once a square is written, its value does not change. Therefore, the first few squares would receive the following values:"
   ]
  },
  {
   "cell_type": "code",
   "execution_count": 356,
   "metadata": {},
   "outputs": [
    {
     "name": "stdout",
     "output_type": "stream",
     "text": [
      "First value attained:  312453\n",
      "First value attained:  619570\n",
      "First value attained:  1511726\n",
      "First value attained:  2357445\n"
     ]
    }
   ],
   "source": [
    "import numpy as np\n",
    "\n",
    "# Build the matrix\n",
    "target = 312051\n",
    "count = 1\n",
    "\n",
    "if np.sqrt(target)>int(np.sqrt(target)):\n",
    "    #print(np.sqrt(target),'is greater than',int(np.sqrt(target)))\n",
    "    # Is the number even? \n",
    "    if int(np.sqrt(target)) % 2 == 0:\n",
    "        w, h = int(np.sqrt(target))+1, int(np.sqrt(target))+1;\n",
    "    else: \n",
    "        w, h = int(np.sqrt(target))+2, int(np.sqrt(target))+2;\n",
    "else:\n",
    "    #print(np.sqrt(target),'is less than',int(np.sqrt(target)))\n",
    "    # Is the number even? \n",
    "    if int(np.sqrt(target)) % 2 == 0:\n",
    "        w, h = int(np.sqrt(target))+1, int(np.sqrt(target))+1;\n",
    "    else: \n",
    "        w, h = int(np.sqrt(target)), int(np.sqrt(target));\n",
    "  \n",
    "# Build a 5x5 matrix of 0's\n",
    "memo = [[0 for x in range(w)] for y in range(h)] \n",
    "\n",
    "# Build the digital list of diameters\n",
    "diameter = [x for x in range(1,w+1,2)]\n",
    "# print(diameter)\n",
    "# Define the center coordinates\n",
    "x,y = int((w-1)/2), int((w-1)/2);\n",
    "c_x,c_y = x,y\n",
    "directions = [(0, 1), (-1, 0), (0, -1), (1, 0), (-1 , 1), (-1, -1), (1, 1), (1, -1)] # [E, NORTH, W, S, NE, NW, SE, SW]\n",
    "d_idx = 0\n",
    "\n",
    "# Define center with value 1\n",
    "memo[y][x] = count\n",
    "\n",
    "# Start loop\n",
    "for radius in range (1, len(diameter)):\n",
    "    # Move east -- First move\n",
    "    dy,dx = directions[d_idx]\n",
    "    y, x = dy+y, dx+x\n",
    "    # Get the nearest neighbors\n",
    "    memo[y][x] = getAllNeighbors(directions, y, x, diameter, memo, 0)\n",
    "    if memo[y][x] > target:\n",
    "        print('First value attained: ',memo[y][x])\n",
    "        break\n",
    "        \n",
    "    # Move North -- diameter[radius-1] times\n",
    "    for n in range(0,diameter[radius-1]):\n",
    "        d_idx = 1\n",
    "        dy,dx = directions[d_idx]\n",
    "        y, x = dy+y, dx+x\n",
    "        memo[y][x] = getAllNeighbors(directions, y, x, diameter, memo, 0)\n",
    "        if memo[y][x] > target:\n",
    "            print('First value attained: ',memo[y][x])\n",
    "            break\n",
    "        \n",
    "    # Move West diameter[radius]-1 times\n",
    "    for w in range(0,diameter[radius]-1):\n",
    "        d_idx = 2\n",
    "        dy,dx = directions[d_idx]\n",
    "        y, x = dy+y, dx+x\n",
    "        memo[y][x] = getAllNeighbors(directions, y, x, diameter, memo, 0)        \n",
    "        if memo[y][x] > target:\n",
    "            print('First value attained: ',memo[y][x])\n",
    "            break\n",
    "            \n",
    "    # Move South diameter[radius]-1 times\n",
    "    for s in range(0,diameter[radius]-1):\n",
    "        d_idx = 3\n",
    "        dy,dx = directions[d_idx]\n",
    "        y, x = dy+y, dx+x\n",
    "        memo[y][x] = getAllNeighbors(directions, y, x, diameter, memo, 0)        \n",
    "        if memo[y][x] > target:\n",
    "            print('First value attained: ',memo[y][x])\n",
    "            break\n",
    "\n",
    "    # Move East diameter[radius]-1 times\n",
    "    for e in range(0,diameter[radius]-1):\n",
    "        d_idx = 0\n",
    "        dy,dx = directions[d_idx]\n",
    "        y, x = dy+y, dx+x\n",
    "        memo[y][x] = getAllNeighbors(directions, y, x, diameter, memo, 0)        \n",
    "        if memo[y][x] > target:\n",
    "            print('First value attained: ',memo[y][x])\n",
    "            break\n"
   ]
  },
  {
   "cell_type": "markdown",
   "metadata": {},
   "source": [
    "# Day 4: High-Entropy Passphrases\n",
    "A new system policy has been put in place that requires all accounts to use a passphrase instead of simply a password. A passphrase consists of a series of words (lowercase letters) separated by spaces.\n",
    "\n",
    "To ensure security, a valid passphrase must contain no duplicate words.\n",
    "\n",
    "For example:\n",
    "\n",
    "aa bb cc dd ee is valid.\n",
    "aa bb cc dd aa is not valid - the word aa appears more than once.\n",
    "aa bb cc dd aaa is valid - aa and aaa count as different words.\n",
    "The system's full passphrase list is available as your puzzle input. How many passphrases are valid?"
   ]
  },
  {
   "cell_type": "code",
   "execution_count": 34,
   "metadata": {},
   "outputs": [],
   "source": [
    "f=open(\"day4Input.txt\", \"r\")\n",
    "passphrase =f.read()"
   ]
  },
  {
   "cell_type": "code",
   "execution_count": 35,
   "metadata": {},
   "outputs": [
    {
     "name": "stdout",
     "output_type": "stream",
     "text": [
      "455\n"
     ]
    }
   ],
   "source": [
    "passphrase = passphrase.split(\"\\n\")\n",
    "valido = 0\n",
    "for phrase in passphrase:\n",
    "    #print(phrase)\n",
    "    valid=1\n",
    "    phrase = phrase.split()\n",
    "    #print('Phrase',len(phrase))\n",
    "    while len(phrase)>1:\n",
    "        word = phrase.pop()\n",
    "        #print('\\nword',word)\n",
    "        for words in phrase:\n",
    "            if word ==  words:\n",
    "                valid = 0\n",
    "                break\n",
    "        if valid == 0:\n",
    "            phrase = []\n",
    "        else: \n",
    "            valid = 1\n",
    "    #print(valid)\n",
    "    valido += valid\n",
    "print(valido)"
   ]
  },
  {
   "cell_type": "markdown",
   "metadata": {},
   "source": [
    "## Part two\n",
    "For added security, yet another system policy has been put in place. Now, a valid passphrase must contain no two words that are anagrams of each other - that is, a passphrase is invalid if any word's letters can be rearranged to form any other word in the passphrase.\n",
    "\n",
    "For example:\n",
    "\n",
    "abcde fghij is a valid passphrase.\n",
    "abcde xyz ecdab is not valid - the letters from the third word can be rearranged to form the first word.\n",
    "a ab abc abd abf abj is a valid passphrase, because all letters need to be used when forming another word.\n",
    "iiii oiii ooii oooi oooo is valid.\n",
    "oiii ioii iioi iiio is not valid - any of these words can be rearranged to form any other word."
   ]
  },
  {
   "cell_type": "code",
   "execution_count": null,
   "metadata": {},
   "outputs": [],
   "source": [
    "passphrase = \"\"\"abcde fghij\n",
    "abcde ecdab xyz\n",
    "a ab abc abd abf abj\n",
    "iiii oiii ooii oooi oooo\n",
    "oiii ioii iioi iiio\"\"\""
   ]
  },
  {
   "cell_type": "code",
   "execution_count": 502,
   "metadata": {},
   "outputs": [
    {
     "name": "stdout",
     "output_type": "stream",
     "text": [
      "valido 186\n"
     ]
    }
   ],
   "source": [
    "passphrase = passphrase.split(\"\\n\")\n",
    "valido = 0\n",
    "for phrase in passphrase:\n",
    "    valid=1\n",
    "    phrase = phrase.split()\n",
    "    #print('Phrase',phrase)\n",
    "    while len(phrase)>1:\n",
    "    # Let's asume the phrase is valid\n",
    "        valid = 1\n",
    "    # Get a first word to compare\n",
    "        word = phrase.pop()\n",
    "        #print('\\nword',word)\n",
    "    # Start a loop to compare word with the words in the phrase\n",
    "        for words in phrase:\n",
    "    # First filter checks for potential annagrams\n",
    "            if len(word) ==  len(words):\n",
    "            # Check if they are annagrams\n",
    "                valid = verify_Annagram(word, words)\n",
    "            if valid == 0:\n",
    "            # It's an annagramme\n",
    "                phrase = []\n",
    "                break\n",
    "    #print('valid',valid)\n",
    "    valido += valid\n",
    "print('valido',valido)"
   ]
  },
  {
   "cell_type": "code",
   "execution_count": 498,
   "metadata": {},
   "outputs": [],
   "source": [
    "def verify_Annagram(a, b):\n",
    "    #a='oooi'\n",
    "    #b='ooii'\n",
    "    total = 0\n",
    "    a_sum = 0\n",
    "    b_sum = 0\n",
    "    for letterNo in range(0,len(a)):\n",
    "        if a[letterNo] in b:\n",
    "            total += 1\n",
    "        # Second filter: \n",
    "        a_sum += ord(a[letterNo])\n",
    "        b_sum += ord(b[letterNo])\n",
    "    if total == len(a) and a_sum == b_sum:\n",
    "        #print('Anagrama')\n",
    "        return 0\n",
    "    else:\n",
    "        #print('Not Anagrama')\n",
    "        return 1"
   ]
  },
  {
   "cell_type": "markdown",
   "metadata": {},
   "source": [
    "# Day 5: A Maze of Twisty Trampolines, All Alike\n",
    "\n",
    "An urgent interrupt arrives from the CPU: it's trapped in a maze of jump instructions, and it would like assistance from any programs with spare cycles to help find the exit.\n",
    "\n",
    "The message includes a list of the offsets for each jump. Jumps are relative: -1 moves to the previous instruction, and 2 skips the next one. Start at the first instruction in the list. The goal is to follow the jumps until one leads outside the list.\n",
    "\n",
    "In addition, these instructions are a little strange; after each jump, the offset of that instruction increases by 1. So, if you come across an offset of 3, you would move three instructions forward, but change it to a 4 for the next time it is encountered.\n",
    "\n",
    "For example, consider the following list of jump offsets:\n",
    "\n",
    "0\n",
    "3\n",
    "0\n",
    "1\n",
    "-3\n",
    "Positive jumps (\"forward\") move downward; negative jumps move upward. For legibility in this example, these offset values will be written all on one line, with the current instruction marked in parentheses. The following steps would be taken before an exit is found:\n",
    "\n",
    "(0) 3  0  1  -3  - before we have taken any steps.\n",
    "(1) 3  0  1  -3  - jump with offset 0 (that is, don't jump at all). Fortunately, the instruction is then incremented to 1.\n",
    " 2 (3) 0  1  -3  - step forward because of the instruction we just modified. The first instruction is incremented again, now to 2.\n",
    " 2  4  0  1 (-3) - jump all the way to the end; leave a 4 behind.\n",
    " 2 (4) 0  1  -2  - go back to where we just were; increment -3 to -2.\n",
    " 2  5  0  1  -2  - jump 4 steps forward, escaping the maze.\n",
    "In this example, the exit is reached in 5 steps.\n",
    "\n",
    "How many steps does it take to reach the exit?"
   ]
  },
  {
   "cell_type": "code",
   "execution_count": 19,
   "metadata": {},
   "outputs": [],
   "source": [
    "f=open(\"day5.txt\", \"r\")\n",
    "maze =f.read()"
   ]
  },
  {
   "cell_type": "code",
   "execution_count": 20,
   "metadata": {},
   "outputs": [
    {
     "data": {
      "text/plain": [
       "387096"
      ]
     },
     "execution_count": 20,
     "metadata": {},
     "output_type": "execute_result"
    }
   ],
   "source": [
    "maze = maze.split(\"\\n\")\n",
    "past_index = 0\n",
    "future_index = 0\n",
    "current_value = 0\n",
    "steps = 0\n",
    "while True:\n",
    "    #print('current_value',current_value, 'future_index', future_index, 'past_index',past_index)\n",
    "    current_value = int(maze[future_index])\n",
    "    past_index = future_index\n",
    "    future_index = past_index + current_value\n",
    "    maze[past_index] = current_value + 1\n",
    "    steps += 1\n",
    "    if future_index >= len(maze):\n",
    "        break\n",
    "steps"
   ]
  },
  {
   "cell_type": "markdown",
   "metadata": {},
   "source": [
    "## Part Two \n",
    "Now, the jumps are even stranger: after each jump, if the offset was three or more, instead decrease it by 1. Otherwise, increase it by 1 as before.\n",
    "\n",
    "Using this rule with the above example, the process now takes 10 steps, and the offset values after finding the exit are left as 2 3 2 3 -1.\n",
    "\n",
    "How many steps does it now take to reach the exit?"
   ]
  },
  {
   "cell_type": "code",
   "execution_count": 146,
   "metadata": {},
   "outputs": [
    {
     "data": {
      "text/plain": [
       "28040648"
      ]
     },
     "execution_count": 146,
     "metadata": {},
     "output_type": "execute_result"
    }
   ],
   "source": [
    "maze = maze.split(\"\\n\")\n",
    "past_index = 0\n",
    "future_index = 0\n",
    "current_value = 0\n",
    "steps = 0\n",
    "\n",
    "while True:\n",
    "    if future_index >= len(maze) or future_index < 0:\n",
    "        break    \n",
    "    current_value = int(maze[future_index])\n",
    "    past_index = future_index\n",
    "    future_index = past_index + current_value\n",
    "    if current_value >= 3:\n",
    "        maze[past_index] = current_value - 1\n",
    "    else: \n",
    "        maze[past_index] = current_value + 1\n",
    "    #print(maze, future_index)\n",
    "    steps += 1\n",
    "steps"
   ]
  },
  {
   "cell_type": "markdown",
   "metadata": {},
   "source": [
    "# Day 6: Memory Reallocation\n",
    "\n",
    "A debugger program here is having an issue: it is trying to repair a memory reallocation routine, but it keeps getting stuck in an infinite loop.\n",
    "\n",
    "In this area, there are sixteen memory banks; each memory bank can hold any number of blocks. The goal of the reallocation routine is to balance the blocks between the memory banks.\n",
    "\n",
    "The reallocation routine operates in cycles. In each cycle, it finds the memory bank with the most blocks (ties won by the lowest-numbered memory bank) and redistributes those blocks among the banks. To do this, it removes all of the blocks from the selected bank, then moves to the next (by index) memory bank and inserts one of the blocks. It continues doing this until it runs out of blocks; if it reaches the last memory bank, it wraps around to the first one.\n",
    "\n",
    "The debugger would like to know how many redistributions can be done before a blocks-in-banks configuration is produced that has been seen before.\n",
    "\n",
    "For example, imagine a scenario with only four memory banks:\n",
    "\n",
    "The banks start with 0, 2, 7, and 0 blocks. The third bank has the most blocks, so it is chosen for redistribution.\n",
    "Starting with the next bank (the fourth bank) and then continuing to the first bank, the second bank, and so on, the 7 blocks are spread out over the memory banks. The fourth, first, and second banks get two blocks each, and the third bank gets one back. The final result looks like this: 2 4 1 2.\n",
    "Next, the second bank is chosen because it contains the most blocks (four). Because there are four memory banks, each gets one block. The result is: 3 1 2 3.\n",
    "Now, there is a tie between the first and fourth memory banks, both of which have three blocks. The first bank wins the tie, and its three blocks are distributed evenly over the other three banks, leaving it with none: 0 2 3 4.\n",
    "The fourth bank is chosen, and its four blocks are distributed such that each of the four banks receives one: 1 3 4 1.\n",
    "The third bank is chosen, and the same thing happens: 2 4 1 2.\n",
    "At this point, we've reached a state we've seen before: 2 4 1 2 was already seen. The infinite loop is detected after the fifth block redistribution cycle, and so the answer in this example is 5.\n",
    "\n",
    "Given the initial block counts in your puzzle input, how many redistribution cycles must be completed before a configuration is produced that has been seen before?"
   ]
  },
  {
   "cell_type": "code",
   "execution_count": 141,
   "metadata": {},
   "outputs": [],
   "source": [
    "def day6(bank):\n",
    "\n",
    "    # Get the index of the bank has the most blocks\n",
    "    ind = bank.index(max(bank))\n",
    "\n",
    "    # Remove all of the blocks from the selected bank\n",
    "    distributor = bank[ind]\n",
    "    bank[ind] = 0\n",
    "\n",
    "    #print('Distributor', distributor)\n",
    "\n",
    "    if ind<len(bank)-1:\n",
    "        idx = ind+1\n",
    "    else: \n",
    "        idx = 0\n",
    "        \n",
    "    while distributor > 0:\n",
    "        bank[idx] += 1\n",
    "        distributor -= 1\n",
    "        if idx<len(bank)-1:\n",
    "            idx += 1\n",
    "        else: \n",
    "            idx = 0\n",
    "    #    print('Bank', bank)\n",
    "    #    print('Distributor', distributor)\n",
    "\n",
    "    #print('FBank', bank)\n",
    "    return bank\n",
    "\n",
    "# Next, the second bank is chosen \n",
    "# because it contains the most blocks (four). \n",
    "# Because there are four memory banks, each gets one block. The result is: 3 1 2 3.\n"
   ]
  },
  {
   "cell_type": "code",
   "execution_count": 178,
   "metadata": {},
   "outputs": [
    {
     "name": "stdout",
     "output_type": "stream",
     "text": [
      "5\n"
     ]
    }
   ],
   "source": [
    "bank = \"\"\"0\t2\t7\t0\"\"\"\n",
    "#bank = \"\"\"2\t8\t8\t5\t4\t2\t3\t1\t5\t5\t1\t2\t15\t13\t5\t14\"\"\"\n",
    "bank = bank.split(\"\\t\")\n",
    "len_bank = len(bank)\n",
    "#print('Original Bank', bank)\n",
    "#Convert to int\n",
    "for i in range(0,len(bank)):\n",
    "    bank[i] = int(bank[i])\n",
    "# Call the function\n",
    "condition = True\n",
    "cycle = 0\n",
    "archive = []\n",
    "archive = archive + bank\n",
    "while condition:\n",
    "\n",
    "    bank = day6(bank)\n",
    "    #print('Bank',str(bank))\n",
    "    archive = archive + bank\n",
    "    #archive.append('')\n",
    "    #print('Archive',archive)\n",
    "    cycle += 1\n",
    "    if cycle > 1:\n",
    "        # Convert bank in a string of numbers\n",
    "        current_bank = ''\n",
    "        for letter in range(0,len_bank):\n",
    "            current_bank = current_bank + str(bank[letter])\n",
    "        #print('current_bank', current_bank)\n",
    "\n",
    "        for s in range(1, cycle):\n",
    "            #print('Cycle',cycle)\n",
    "            # Extract the bank number from archive\n",
    "            bankno = ''\n",
    "            #print('Index:',s*len_bank-len_bank,s*len_bank)\n",
    "            for digit in range(s*len_bank-len_bank,s*len_bank):\n",
    "                #print(digit,'Archive[digit]',archive[digit])\n",
    "                bankno=bankno+str(archive[digit])\n",
    "            #print('Bankno', bankno)\n",
    "        # Compare bankno and current_bank\n",
    "            if current_bank == bankno:\n",
    "            #print('current_bank:',current_bank,'= bankno', bankno,'?',current_bank == bankno)\n",
    "                condition=False\n",
    "                break\n",
    "print(cycle)"
   ]
  },
  {
   "cell_type": "markdown",
   "metadata": {},
   "source": [
    "## Part two \n",
    "how many cycles it got to the first repetition minus the cycles happened til the first rep"
   ]
  },
  {
   "cell_type": "code",
   "execution_count": 179,
   "metadata": {},
   "outputs": [
    {
     "name": "stdout",
     "output_type": "stream",
     "text": [
      "4.0\n"
     ]
    }
   ],
   "source": [
    "bank = \"\"\"0\t2\t7\t0\"\"\"\n",
    "#bank = \"\"\"2\t8\t8\t5\t4\t2\t3\t1\t5\t5\t1\t2\t15\t13\t5\t14\"\"\"\n",
    "bank = bank.split(\"\\t\")\n",
    "len_bank = len(bank)\n",
    "#print('Original Bank', bank)\n",
    "#Convert to int\n",
    "for i in range(0,len(bank)):\n",
    "    bank[i] = int(bank[i])\n",
    "# Call the function\n",
    "condition = True\n",
    "cycle = 0\n",
    "archive = []\n",
    "archive = archive + bank\n",
    "while condition:\n",
    "\n",
    "    bank = day6(bank)\n",
    "    #print('Bank',str(bank))\n",
    "    archive = archive + bank\n",
    "    #archive.append('')\n",
    "    #print('Archive',archive)\n",
    "    cycle += 1\n",
    "    if cycle > 1:\n",
    "        # Convert bank in a string of numbers\n",
    "        current_bank = ''\n",
    "        for letter in range(0,len_bank):\n",
    "            current_bank = current_bank + str(bank[letter])\n",
    "        #print('current_bank', current_bank)\n",
    "\n",
    "        for s in range(1, cycle):\n",
    "            #print('Cycle',cycle)\n",
    "            # Extract the bank number from archive\n",
    "            bankno = ''\n",
    "            #print('Index:',s*len_bank-len_bank,s*len_bank)\n",
    "            for digit in range(s*len_bank-len_bank,s*len_bank):\n",
    "                #print(digit,'Archive[digit]',archive[digit])\n",
    "                bankno=bankno+str(archive[digit])\n",
    "            #print('Bankno', bankno)\n",
    "        # Compare bankno and current_bank\n",
    "            if current_bank == bankno:\n",
    "            #print('current_bank:',current_bank,'= bankno', bankno,'?',current_bank == bankno)\n",
    "                condition=False\n",
    "                break\n",
    "print(cycle - (digit-len_bank+1)/len_bank)"
   ]
  },
  {
   "cell_type": "markdown",
   "metadata": {},
   "source": [
    "# Day 7: Recursive Circus\n",
    "One program at the bottom supports the entire tower. It's holding a large disc, and on the disc are balanced several more sub-towers. At the bottom of these sub-towers, standing on the bottom disc, are other programs, each holding their own disc, and so on. At the very tops of these sub-sub-sub-...-towers, many programs stand simply keeping the disc below them balanced but with no disc of their own.\n",
    "\n",
    "You offer to help, but first you need to understand the structure of these towers. You ask each program to yell out their name, their weight, and (if they're holding a disc) the names of the programs immediately above them balancing on that disc. You write this information down (your puzzle input). Unfortunately, in their panic, they don't do this in an orderly fashion; by the time you're done, you're not sure which program gave which information.\n",
    "\n",
    "For example, if your list is the following:\n",
    "\n",
    "..\n",
    "\n",
    "...then you would be able to recreate the structure of the towers that looks like this:\n",
    "\n",
    "\n",
    "...\n",
    "\n",
    "In this example, tknk is at the bottom of the tower (the bottom program), and is holding up ugml, padx, and fwft. Those programs are, in turn, holding up other programs; in this example, none of those programs are holding up any other programs, and are all the tops of their own towers. (The actual tower balancing in front of you is much larger.)"
   ]
  },
  {
   "cell_type": "code",
   "execution_count": 293,
   "metadata": {},
   "outputs": [],
   "source": [
    "lista = \"\"\"pbga (66)\n",
    "xhth (57)\n",
    "ebii (61)\n",
    "havc (66)\n",
    "ktlj (57)\n",
    "fwft (72) -> ktlj, cntj, xhth\n",
    "qoyq (66)\n",
    "padx (45) -> pbga, havc, qoyq\n",
    "tknk (41) -> ugml, padx, fwft\n",
    "jptl (61)\n",
    "ugml (68) -> gyxo, ebii, jptl\n",
    "gyxo (61)\n",
    "cntj (57)\"\"\"\n"
   ]
  },
  {
   "cell_type": "code",
   "execution_count": 246,
   "metadata": {},
   "outputs": [
    {
     "name": "stdout",
     "output_type": "stream",
     "text": [
      "eugwuhl is the bottom program\n"
     ]
    }
   ],
   "source": [
    "# Find all the rows where the character \"->\" is\n",
    "# and register all their parents\n",
    "# as potential bottom programs\n",
    "\n",
    "pariente = []\n",
    "relation = 0\n",
    "\n",
    "while True:\n",
    "    try:\n",
    "        relation = lista.index('->', relation+1)\n",
    "    except:\n",
    "        break\n",
    "    # Get the parent from the index relation\n",
    "    ind = 1\n",
    "    while True:\n",
    "        if lista[relation-ind]=='\\n':\n",
    "            break\n",
    "        ind += 1\n",
    "    start = relation-ind+1\n",
    "    stop = lista.index(' ', start+1)\n",
    "\n",
    "    pariente = pariente + [lista[start:stop]]\n",
    "\n",
    "# Get the children of those bottom programs\n",
    "\n",
    "kidos = []\n",
    "relation = 0\n",
    "\n",
    "while True:\n",
    "    try:\n",
    "        relation = lista.index('->', relation+1)\n",
    "        fdl = lista.index('\\n', relation+1)\n",
    "    except:\n",
    "        break\n",
    "\n",
    "    kidos = kidos + lista[relation+3:fdl].split(', ')\n",
    "\n",
    "# For every parent check if they are in the children list,\n",
    "# The bottom program is that parent who is not in the kids list\n",
    "idx = 0\n",
    "while True:\n",
    "    if pariente[idx] in kidos:\n",
    "        idx += 1\n",
    "    else:\n",
    "        print(pariente[idx],'is the bottom program')\n",
    "        break"
   ]
  },
  {
   "cell_type": "markdown",
   "metadata": {},
   "source": [
    "## Part Two\n",
    "\n",
    "The programs explain the situation: they can't get down. Rather, they could get down, if they weren't expending all of their energy trying to keep the tower balanced. Apparently, one program has the wrong weight, and until it's fixed, they're stuck here.\n",
    "\n",
    "For any program holding a disc, each program standing on that disc forms a sub-tower. Each of those sub-towers are supposed to be the same weight, or the disc itself isn't balanced. The weight of a tower is the sum of the weights of the programs in that tower.\n",
    "\n",
    "In the example above, this means that for ugml's disc to be balanced, gyxo, ebii, and jptl must all have the same weight, and they do: 61.\n",
    "\n",
    "However, for tknk to be balanced, each of the programs standing on its disc and all programs above it must each match. This means that the following sums must all be the same:\n",
    "\n",
    "ugml + (gyxo + ebii + jptl) = 68 + (61 + 61 + 61) = 251\n",
    "padx + (pbga + havc + qoyq) = 45 + (66 + 66 + 66) = 243\n",
    "fwft + (ktlj + cntj + xhth) = 72 + (57 + 57 + 57) = 243\n",
    "As you can see, tknk's disc is unbalanced: ugml's stack is heavier than the other two. Even though the nodes above ugml are balanced, ugml itself is too heavy: it needs to be 8 units lighter for its stack to weigh 243 and keep the towers balanced. If this change were made, its weight would be 60.\n",
    "\n",
    "Given that exactly one program is the wrong weight, what would its weight need to be to balance the entire tower?"
   ]
  },
  {
   "cell_type": "code",
   "execution_count": 57,
   "metadata": {},
   "outputs": [],
   "source": [
    "# Returns coordinates of bp's definition\n",
    "def get_coordinates(bp, lista):\n",
    "    #bp = 'xfwft'\n",
    "    len_bp = len(bp)\n",
    "    stop = 0\n",
    "    # Get the coordinates\n",
    "    while True:\n",
    "        try: \n",
    "            start = lista.index(bp, stop)\n",
    "        except:\n",
    "            return 0\n",
    "            break\n",
    "        stop = start + len_bp\n",
    "        # Verify if the word is defined within \\n and (\n",
    "        if lista[start-1] == '\\n' and lista[stop+1] == '(':\n",
    "            return stop+2\n",
    "            break\n",
    "        else:\n",
    "            stop = stop + 2\n",
    "\n",
    "# Returns the weight of w at coordinate i\n",
    "def get_weight(l,w,i):\n",
    "#    l = lista\n",
    "#    w = 'xfwft'\n",
    "#    i = get_coordinates(w, l)\n",
    "    j=0\n",
    "    try:\n",
    "        j=lista.index(')',i)\n",
    "    except: \n",
    "        print('No parenthesis found')\n",
    "        #return 0\n",
    "    return l[i:j]\n",
    "\n",
    "# Returns 1 if parent plus the index of its location\n",
    "def is_parent(lista, bottom_program):\n",
    "    len_bp = len(bottom_program)\n",
    "    stop = 0\n",
    "    parent_flag = 0\n",
    "    # Get the coordinates\n",
    "    while True: \n",
    "        try: # Check if lista has bottom_program in it and return it's starting index\n",
    "            start = lista.index(bottom_program, stop)\n",
    "        except: \n",
    "            break\n",
    "        # Stop is the index containing the last letter of bottom_program\n",
    "        stop = start + len_bp - 1\n",
    "        # So first get the weight's locator index, if bp is not a definition then\n",
    "        # there wont be a '('\n",
    "        if stop+2<len(lista)-1:\n",
    "            if lista[stop+2] == '(':\n",
    "                weight_start = stop+2\n",
    "                # Find the next parenthesis\n",
    "                weight_stop = lista.index(')',weight_start+1)\n",
    "                if weight_stop>=len(lista)-1:\n",
    "                    del_start = weight_stop\n",
    "                else:\n",
    "                    del_start = weight_stop + 3\n",
    "            # Verify it's a parent location by confirming its delimeters: \\n on the left \n",
    "            # and -> on the right\n",
    "                if lista[start-1]=='\\n' and lista[del_start]=='>':\n",
    "                    parent_flag = 1\n",
    "                    break\n",
    "                else: \n",
    "                    stop = stop+1\n",
    "        else: \n",
    "            stop = len(lista)-1\n",
    "            break\n",
    "    return parent_flag, stop\n",
    "\n",
    "# Returns the names of the children \n",
    "def get_kidos(l, i):\n",
    "    c0 = i + 1 # First space pointint to the weight\n",
    "    c1 = l.index(' ', c0+1) + 1\n",
    "    c0 = c1 + 3  # Second space pointing to the pointer symbol\n",
    "    try: \n",
    "        c1 = l.index('\\n', c0+1)\n",
    "    except: \n",
    "        print('Arrived to the end')\n",
    "        c1 = len(l)-1\n",
    "    return l[c0:c1].split(', ')"
   ]
  },
  {
   "cell_type": "markdown",
   "metadata": {},
   "source": [
    "#### Main script"
   ]
  },
  {
   "cell_type": "code",
   "execution_count": null,
   "metadata": {},
   "outputs": [],
   "source": [
    "f=open(\"day7Input.txt\", \"r\")\n",
    "lista =f.read()"
   ]
  },
  {
   "cell_type": "code",
   "execution_count": 165,
   "metadata": {},
   "outputs": [],
   "source": [
    "import pandas as pd\n",
    "def main_script(lista,kid):\n",
    "    # CHeck if the kid is a parent\n",
    "    prnt,kid_ind = is_parent(lista, kid)\n",
    "    # Get the coordinates of its weight\n",
    "    ind = get_coordinates(kid,lista) \n",
    "    # Get its weight\n",
    "    peso = int(get_weight(lista,kid,ind))\n",
    "    print('\\nWelcome', kid,'your weight is', peso)\n",
    "    generation = 0\n",
    "    peso2=0\n",
    "    # If kid is a parent: print its kids (a.k.a grandkids)\n",
    "    if prnt:\n",
    "        children = get_kidos(lista, kid_ind)\n",
    "        print(kid, 'is a parent of:', children)\n",
    "        generation+=1\n",
    "        print(generation)\n",
    "        for kid2 in children:\n",
    "            check = main_script(lista, kid2)\n",
    "            # If main_script returned nothing:\n",
    "            if not(check):\n",
    "                ind_p = get_coordinates(kid2,lista) \n",
    "                peso_p = int(get_weight(lista,kid2,ind_p))\n",
    "                print('Check is None for kid', kid2,'with weight', peso_p, peso2)\n",
    "\n",
    "            # Main_script returned something which means kid2 is not a parent \n",
    "            else: \n",
    "                print('kid2 is not a parent', check)\n",
    "                peso2 += check\n",
    "                print('Peso2', peso2)\n",
    "        print('total peso of siblings and parent', peso2 + peso)\n",
    "        return peso2+peso\n",
    "    else: \n",
    "        generation-=1\n",
    "        print(generation)\n",
    "        print(kid, 'is not a parent returning peso', peso)\n",
    "        return int(peso)\n"
   ]
  },
  {
   "cell_type": "code",
   "execution_count": 166,
   "metadata": {},
   "outputs": [
    {
     "name": "stdout",
     "output_type": "stream",
     "text": [
      "\n",
      "Welcome tknk your weight is 41\n",
      "tknk is a parent of: ['ugml', 'padx', 'fwft']\n",
      "1\n",
      "\n",
      "Welcome ugml your weight is 68\n",
      "ugml is a parent of: ['gyxo', 'ebii', 'jptl']\n",
      "1\n",
      "\n",
      "Welcome gyxo your weight is 61\n",
      "-1\n",
      "gyxo is not a parent returning peso 61\n",
      "kid2 is not a parent 61\n",
      "Peso2 61\n",
      "\n",
      "Welcome ebii your weight is 61\n",
      "-1\n",
      "ebii is not a parent returning peso 61\n",
      "kid2 is not a parent 61\n",
      "Peso2 122\n",
      "\n",
      "Welcome jptl your weight is 61\n",
      "-1\n",
      "jptl is not a parent returning peso 61\n",
      "kid2 is not a parent 61\n",
      "Peso2 183\n",
      "total peso of siblings and parent 251\n",
      "kid2 is not a parent 251\n",
      "Peso2 251\n",
      "\n",
      "Welcome padx your weight is 45\n",
      "padx is a parent of: ['pbga', 'havc', 'qoyq']\n",
      "1\n",
      "\n",
      "Welcome pbga your weight is 66\n",
      "-1\n",
      "pbga is not a parent returning peso 66\n",
      "kid2 is not a parent 66\n",
      "Peso2 66\n",
      "\n",
      "Welcome havc your weight is 66\n",
      "-1\n",
      "havc is not a parent returning peso 66\n",
      "kid2 is not a parent 66\n",
      "Peso2 132\n",
      "\n",
      "Welcome qoyq your weight is 66\n",
      "-1\n",
      "qoyq is not a parent returning peso 66\n",
      "kid2 is not a parent 66\n",
      "Peso2 198\n",
      "total peso of siblings and parent 243\n",
      "kid2 is not a parent 243\n",
      "Peso2 494\n",
      "\n",
      "Welcome fwft your weight is 727\n",
      "fwft is a parent of: ['ktlj', 'cntj', 'xhth']\n",
      "1\n",
      "\n",
      "Welcome ktlj your weight is 57\n",
      "-1\n",
      "ktlj is not a parent returning peso 57\n",
      "kid2 is not a parent 57\n",
      "Peso2 57\n",
      "\n",
      "Welcome cntj your weight is 35\n",
      "cntj is a parent of: ['xhgc', 'itesm']\n",
      "1\n",
      "\n",
      "Welcome xhgc your weight is 11\n",
      "-1\n",
      "xhgc is not a parent returning peso 11\n",
      "kid2 is not a parent 11\n",
      "Peso2 11\n",
      "\n",
      "Welcome itesm your weight is 11\n",
      "-1\n",
      "itesm is not a parent returning peso 11\n",
      "kid2 is not a parent 11\n",
      "Peso2 22\n",
      "total peso of siblings and parent 57\n",
      "kid2 is not a parent 57\n",
      "Peso2 114\n",
      "\n",
      "Welcome xhth your weight is 45\n",
      "xhth is a parent of: ['ibr']\n",
      "1\n",
      "\n",
      "Welcome ibr your weight is 12\n",
      "-1\n",
      "ibr is not a parent returning peso 12\n",
      "kid2 is not a parent 12\n",
      "Peso2 12\n",
      "total peso of siblings and parent 57\n",
      "kid2 is not a parent 57\n",
      "Peso2 171\n",
      "total peso of siblings and parent 898\n",
      "kid2 is not a parent 898\n",
      "Peso2 1392\n",
      "total peso of siblings and parent 1433\n"
     ]
    },
    {
     "data": {
      "text/plain": [
       "1433"
      ]
     },
     "execution_count": 166,
     "metadata": {},
     "output_type": "execute_result"
    }
   ],
   "source": [
    "main_script(lista,'tknk')"
   ]
  },
  {
   "cell_type": "code",
   "execution_count": 128,
   "metadata": {},
   "outputs": [],
   "source": [
    "lista = \"\"\"pbga (66)\n",
    "ibr (12)\n",
    "ebii (61)\n",
    "havc (66)\n",
    "ktlj (57)\n",
    "fwft (727) -> ktlj, cntj, xhth\n",
    "qoyq (66)\n",
    "padx (45) -> pbga, havc, qoyq\n",
    "xhgc (11)\n",
    "itesm (11)\n",
    "tknk (41) -> ugml, padx, fwft\n",
    "jptl (61)\n",
    "ugml (68) -> gyxo, ebii, jptl\n",
    "gyxo (61)\n",
    "cntj (35) -> xhgc, itesm\n",
    "xhth (45) -> ibr\n",
    "\"\"\""
   ]
  },
  {
   "cell_type": "code",
   "execution_count": 40,
   "metadata": {},
   "outputs": [
    {
     "data": {
      "text/plain": [
       "262"
      ]
     },
     "execution_count": 40,
     "metadata": {},
     "output_type": "execute_result"
    }
   ],
   "source": [
    "len(lista)"
   ]
  },
  {
   "cell_type": "code",
   "execution_count": null,
   "metadata": {},
   "outputs": [],
   "source": []
  }
 ],
 "metadata": {
  "kernelspec": {
   "display_name": "Python 3",
   "language": "python",
   "name": "python3"
  },
  "language_info": {
   "codemirror_mode": {
    "name": "ipython",
    "version": 3
   },
   "file_extension": ".py",
   "mimetype": "text/x-python",
   "name": "python",
   "nbconvert_exporter": "python",
   "pygments_lexer": "ipython3",
   "version": "3.5.4"
  }
 },
 "nbformat": 4,
 "nbformat_minor": 2
}
